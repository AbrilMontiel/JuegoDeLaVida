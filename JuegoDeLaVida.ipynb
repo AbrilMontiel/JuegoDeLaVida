{
  "nbformat": 4,
  "nbformat_minor": 0,
  "metadata": {
    "colab": {
      "name": "JuegoDeLaVida.ipynb",
      "provenance": [],
      "collapsed_sections": [],
      "authorship_tag": "ABX9TyNorWQWKZDnD2ddqBN9LfyD",
      "include_colab_link": true
    },
    "kernelspec": {
      "name": "python3",
      "display_name": "Python 3"
    },
    "language_info": {
      "name": "python"
    }
  },
  "cells": [
    {
      "cell_type": "markdown",
      "metadata": {
        "id": "view-in-github",
        "colab_type": "text"
      },
      "source": [
        "<a href=\"https://colab.research.google.com/github/AbrilMontiel/JuegoDeLaVida/blob/master/JuegoDeLaVida.ipynb\" target=\"_parent\"><img src=\"https://colab.research.google.com/assets/colab-badge.svg\" alt=\"Open In Colab\"/></a>"
      ]
    },
    {
      "cell_type": "code",
      "metadata": {
        "id": "qw41nk2w_GvM"
      },
      "source": [
        "class Array2DADT:\n",
        "  def __init__( self, ren ,col ):\n",
        "    self.__data = [ [ 0 for x in range( col ) ] for x in range( ren ) ]\n",
        "\n",
        "  def clear( self, dato ):\n",
        "    self.__data = [ [ dato for y in range( self.get_col_size() ) ] for x in range( self.get_row_size() ) ]\n",
        "\n",
        "  def get_row_size( self ):\n",
        "    return len( self.__data )\n",
        "\n",
        "  def get_col_size( self ):\n",
        "    return len( self.__data[ 0 ] )\n",
        "\n",
        "  def set_item( self, ren, col, dato ):\n",
        "    self.__data[ ren ][ col ] = dato\n",
        "\n",
        "  def get_item( self, ren, col ):\n",
        "    self.__data[ ren ][ col ] \n",
        "\n",
        "#matriz\n",
        "  def to_string( self ):\n",
        "    cadena = \"\"\n",
        "    for renglon in self.__data:\n",
        "      cadena = cadena + \" | \"\n",
        "      for dato in renglon:\n",
        "        cadena = cadena + str( dato ) + \" | \"\n",
        "      cadena = cadena + \"\\n\"\n",
        "    return cadena"
      ],
      "execution_count": null,
      "outputs": []
    },
    {
      "cell_type": "code",
      "metadata": {
        "id": "ebOVRsBK_bIH"
      },
      "source": [
        "class JuegoDeLaVida:\n",
        "  def __init__( self, ruta_archivo ):\n",
        "    self.rens = None\n",
        "    self.cols = None\n",
        "    self.tablero = None\n",
        "    self.generaciones = None\n",
        "    self.read_game_data( ruta_archivo )\n",
        "\n",
        "  def read_game_data( self, archivo):\n",
        "    archivo = open( archivo, 'rt')\n",
        "    lineas = archivo.readlines()\n",
        "    for index in range( len(lineas) ):\n",
        "        lineas[index] = lineas[index].strip()\n",
        "    #print(lineas)\n",
        "    self.rens = int( lineas[0] )\n",
        "    self.cols = int( lineas[1] )\n",
        "    self.tablero = Array2DADT( self.rens, self.cols )\n",
        "    r = 0\n",
        "    c = 0\n",
        "    for index in range( 2, 2 + self.rens, 1 ):\n",
        "      c = 0\n",
        "      for dato in lineas[index].split(','):\n",
        "        self.tablero.set_item( r, c, int(dato) )\n",
        "        c += 1\n",
        "      r += 1\n",
        "\n",
        "    self.generaciones = int( lineas[ -1 ] )\n",
        "    print( \"Gens: \", self.generaciones )\n",
        "    print(self.tablero.to_string())\n",
        "  \n",
        "  def get_vecinos( self , r , c):\n",
        "    vecinos = []\n",
        "    for ren in range( r-1 , r+2 , 1 ):\n",
        "      for col in range( c-1 , c+2 , 1 ):\n",
        "        if ren < 0 or ren >= self.tablero.get_row_size() or col < 0 or col >= self.tablero.get_col_size() or (ren==r and col==c):\n",
        "          pass  \n",
        "        else:\n",
        "          vecinos.append((ren,col))\n",
        "    return vecinos\n",
        "\n",
        "  def get_vecinos_vivos( self, r, c ):\n",
        "    vecinos = self.get_vecinos( r, c )\n",
        "    vivos = 0\n",
        "    for par in vecinos:\n",
        "        if self.tablero.get_item( par[0], par[1] ) == 1:\n",
        "            vivos += 1\n",
        "    return vivos\n",
        "\n",
        "  def calcular_siguiente( self ):\n",
        "    vecinos_vivos = self.get_vecinos_vivos( self.rens, self.cols )\n",
        "    nueva_gen = Array2DADT( self.rens, self.cols )\n",
        "    \n",
        "    #aplicar cuatro reglas a cada celula y el resultado ponerlo en nueva generacion.\n",
        "    for ren in range( self.rens ):\n",
        "      for col in range( self.cols ): \n",
        "         if vecinos_vivos == 3 or vecinos_vivos == 2:\n",
        "           nueva_gen = 1\n",
        "         else:\n",
        "           nueva_gen = 0\n",
        "    return vecinos_vivos\n",
        "\n",
        "    self.tablero = nueva_gen"
      ],
      "execution_count": null,
      "outputs": []
    },
    {
      "cell_type": "code",
      "metadata": {
        "colab": {
          "base_uri": "https://localhost:8080/"
        },
        "id": "Yb67FKeO_jTC",
        "outputId": "c26b5a50-2b7b-4aa0-b265-676654be8123"
      },
      "source": [
        "juego = JuegoDeLaVida( 'entrada.txt' )\n",
        "print(juego.calcular_siguiente() )\n"
      ],
      "execution_count": null,
      "outputs": [
        {
          "output_type": "stream",
          "name": "stdout",
          "text": [
            "Gens:  11\n",
            " | 0 | 0 | 0 | 0 | 0 | 0 | 0 | \n",
            " | 0 | 0 | 1 | 0 | 0 | 0 | 0 | \n",
            " | 0 | 1 | 1 | 1 | 0 | 0 | 0 | \n",
            " | 0 | 0 | 1 | 1 | 0 | 0 | 0 | \n",
            " | 0 | 0 | 0 | 0 | 0 | 0 | 0 | \n",
            " | 0 | 0 | 0 | 0 | 0 | 0 | 0 | \n",
            " | 0 | 0 | 0 | 0 | 0 | 0 | 0 | \n",
            "\n",
            "0\n"
          ]
        }
      ]
    }
  ]
}